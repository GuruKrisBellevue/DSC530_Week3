{
 "cells": [
  {
   "cell_type": "markdown",
   "id": "d53ed93c",
   "metadata": {},
   "source": [
    "# Guruprasad Velikadu Krishnamoorthy\n",
    "\n",
    "## Week 3 Assignment"
   ]
  },
  {
   "cell_type": "markdown",
   "id": "d9b4e275",
   "metadata": {},
   "source": [
    "## Initial setup:\n",
    "#### This section contains the initial download of the files and Python files that will be references in this assignment. "
   ]
  },
  {
   "cell_type": "code",
   "execution_count": 1,
   "id": "4e4f5e7a",
   "metadata": {},
   "outputs": [],
   "source": [
    "# Download basename and exists from OS module which will be used in the download function\n",
    "from os.path import basename, exists\n",
    "\n",
    "# Create a function named download_file, to dounload the scripts and files from Github to local path\n",
    "def download_file(url):\n",
    "    \"\"\"\n",
    "    Downloads the scripts/ files from Github to local directory\n",
    "    takes url as input.\n",
    "    \"\"\"\n",
    "    filename = basename(url)\n",
    "    # Checking if the file exists in the local directory and it downloads the file if it doesn't exist already.\n",
    "    if not exists(filename):\n",
    "        from urllib.request import urlretrieve\n",
    "        # Downloading the files to the local path\n",
    "        local, _ = urlretrieve(url, filename)\n",
    "        # Printing confirmation message\n",
    "        print(\"Downloaded \" + local)\n",
    "\n",
    "#  Calling download functions to download thinkstats2.py and thinkplot.py used throughtout this assignment\n",
    "download_file(\"https://github.com/AllenDowney/ThinkStats2/raw/master/code/thinkstats2.py\")\n",
    "download_file(\"https://github.com/AllenDowney/ThinkStats2/raw/master/code/thinkplot.py\")"
   ]
  },
  {
   "cell_type": "code",
   "execution_count": 2,
   "id": "5319d5c3",
   "metadata": {},
   "outputs": [],
   "source": [
    "# Calling download_file function to download source files and nsfg.py\n",
    "download_file(\"https://github.com/AllenDowney/ThinkStats2/raw/master/code/nsfg.py\")\n",
    "\n",
    "download_file(\"https://github.com/AllenDowney/ThinkStats2/raw/master/code/2002FemPreg.dct\")\n",
    "download_file(\n",
    "    \"https://github.com/AllenDowney/ThinkStats2/raw/master/code/2002FemPreg.dat.gz\"\n",
    ")"
   ]
  },
  {
   "cell_type": "code",
   "execution_count": 3,
   "id": "2c4dde13",
   "metadata": {},
   "outputs": [],
   "source": [
    "# Importing the nsfg and other modules module from the author's code\n",
    "import nsfg\n",
    "import thinkstats2\n",
    "import thinkplot\n",
    "\n",
    "# importing the required libraries\n",
    "import numpy as np\n",
    "import sys\n",
    "from collections import defaultdict\n",
    "import math\n",
    "import itertools\n",
    "import pandas as pd\n"
   ]
  },
  {
   "cell_type": "code",
   "execution_count": 4,
   "id": "a5524a9b",
   "metadata": {},
   "outputs": [],
   "source": [
    "# Setting the maximum number of rows and columns to display\n",
    "pd.options.display.max_rows=20\n",
    "pd.options.display.max_columns=20\n",
    "pd.options.display.precision =3"
   ]
  },
  {
   "cell_type": "code",
   "execution_count": 5,
   "id": "fc6f2686",
   "metadata": {},
   "outputs": [
    {
     "data": {
      "text/html": [
       "<div>\n",
       "<style scoped>\n",
       "    .dataframe tbody tr th:only-of-type {\n",
       "        vertical-align: middle;\n",
       "    }\n",
       "\n",
       "    .dataframe tbody tr th {\n",
       "        vertical-align: top;\n",
       "    }\n",
       "\n",
       "    .dataframe thead th {\n",
       "        text-align: right;\n",
       "    }\n",
       "</style>\n",
       "<table border=\"1\" class=\"dataframe\">\n",
       "  <thead>\n",
       "    <tr style=\"text-align: right;\">\n",
       "      <th></th>\n",
       "      <th>caseid</th>\n",
       "      <th>pregordr</th>\n",
       "      <th>howpreg_n</th>\n",
       "      <th>howpreg_p</th>\n",
       "      <th>moscurrp</th>\n",
       "      <th>nowprgdk</th>\n",
       "      <th>pregend1</th>\n",
       "      <th>pregend2</th>\n",
       "      <th>nbrnaliv</th>\n",
       "      <th>multbrth</th>\n",
       "      <th>...</th>\n",
       "      <th>laborfor_i</th>\n",
       "      <th>religion_i</th>\n",
       "      <th>metro_i</th>\n",
       "      <th>basewgt</th>\n",
       "      <th>adj_mod_basewgt</th>\n",
       "      <th>finalwgt</th>\n",
       "      <th>secu_p</th>\n",
       "      <th>sest</th>\n",
       "      <th>cmintvw</th>\n",
       "      <th>totalwgt_lb</th>\n",
       "    </tr>\n",
       "  </thead>\n",
       "  <tbody>\n",
       "    <tr>\n",
       "      <th>0</th>\n",
       "      <td>1</td>\n",
       "      <td>1</td>\n",
       "      <td>NaN</td>\n",
       "      <td>NaN</td>\n",
       "      <td>NaN</td>\n",
       "      <td>NaN</td>\n",
       "      <td>6.0</td>\n",
       "      <td>NaN</td>\n",
       "      <td>1.0</td>\n",
       "      <td>NaN</td>\n",
       "      <td>...</td>\n",
       "      <td>0</td>\n",
       "      <td>0</td>\n",
       "      <td>0</td>\n",
       "      <td>3410.389</td>\n",
       "      <td>3869.350</td>\n",
       "      <td>6448.271</td>\n",
       "      <td>2</td>\n",
       "      <td>9</td>\n",
       "      <td>NaN</td>\n",
       "      <td>8.812</td>\n",
       "    </tr>\n",
       "    <tr>\n",
       "      <th>1</th>\n",
       "      <td>1</td>\n",
       "      <td>2</td>\n",
       "      <td>NaN</td>\n",
       "      <td>NaN</td>\n",
       "      <td>NaN</td>\n",
       "      <td>NaN</td>\n",
       "      <td>6.0</td>\n",
       "      <td>NaN</td>\n",
       "      <td>1.0</td>\n",
       "      <td>NaN</td>\n",
       "      <td>...</td>\n",
       "      <td>0</td>\n",
       "      <td>0</td>\n",
       "      <td>0</td>\n",
       "      <td>3410.389</td>\n",
       "      <td>3869.350</td>\n",
       "      <td>6448.271</td>\n",
       "      <td>2</td>\n",
       "      <td>9</td>\n",
       "      <td>NaN</td>\n",
       "      <td>7.875</td>\n",
       "    </tr>\n",
       "    <tr>\n",
       "      <th>2</th>\n",
       "      <td>2</td>\n",
       "      <td>1</td>\n",
       "      <td>NaN</td>\n",
       "      <td>NaN</td>\n",
       "      <td>NaN</td>\n",
       "      <td>NaN</td>\n",
       "      <td>5.0</td>\n",
       "      <td>NaN</td>\n",
       "      <td>3.0</td>\n",
       "      <td>5.0</td>\n",
       "      <td>...</td>\n",
       "      <td>0</td>\n",
       "      <td>0</td>\n",
       "      <td>0</td>\n",
       "      <td>7226.302</td>\n",
       "      <td>8567.549</td>\n",
       "      <td>12999.542</td>\n",
       "      <td>2</td>\n",
       "      <td>12</td>\n",
       "      <td>NaN</td>\n",
       "      <td>9.125</td>\n",
       "    </tr>\n",
       "    <tr>\n",
       "      <th>3</th>\n",
       "      <td>2</td>\n",
       "      <td>2</td>\n",
       "      <td>NaN</td>\n",
       "      <td>NaN</td>\n",
       "      <td>NaN</td>\n",
       "      <td>NaN</td>\n",
       "      <td>6.0</td>\n",
       "      <td>NaN</td>\n",
       "      <td>1.0</td>\n",
       "      <td>NaN</td>\n",
       "      <td>...</td>\n",
       "      <td>0</td>\n",
       "      <td>0</td>\n",
       "      <td>0</td>\n",
       "      <td>7226.302</td>\n",
       "      <td>8567.549</td>\n",
       "      <td>12999.542</td>\n",
       "      <td>2</td>\n",
       "      <td>12</td>\n",
       "      <td>NaN</td>\n",
       "      <td>7.000</td>\n",
       "    </tr>\n",
       "    <tr>\n",
       "      <th>4</th>\n",
       "      <td>2</td>\n",
       "      <td>3</td>\n",
       "      <td>NaN</td>\n",
       "      <td>NaN</td>\n",
       "      <td>NaN</td>\n",
       "      <td>NaN</td>\n",
       "      <td>6.0</td>\n",
       "      <td>NaN</td>\n",
       "      <td>1.0</td>\n",
       "      <td>NaN</td>\n",
       "      <td>...</td>\n",
       "      <td>0</td>\n",
       "      <td>0</td>\n",
       "      <td>0</td>\n",
       "      <td>7226.302</td>\n",
       "      <td>8567.549</td>\n",
       "      <td>12999.542</td>\n",
       "      <td>2</td>\n",
       "      <td>12</td>\n",
       "      <td>NaN</td>\n",
       "      <td>6.188</td>\n",
       "    </tr>\n",
       "  </tbody>\n",
       "</table>\n",
       "<p>5 rows × 244 columns</p>\n",
       "</div>"
      ],
      "text/plain": [
       "   caseid  pregordr  howpreg_n  howpreg_p  moscurrp  nowprgdk  pregend1  \\\n",
       "0       1         1        NaN        NaN       NaN       NaN       6.0   \n",
       "1       1         2        NaN        NaN       NaN       NaN       6.0   \n",
       "2       2         1        NaN        NaN       NaN       NaN       5.0   \n",
       "3       2         2        NaN        NaN       NaN       NaN       6.0   \n",
       "4       2         3        NaN        NaN       NaN       NaN       6.0   \n",
       "\n",
       "   pregend2  nbrnaliv  multbrth  ...  laborfor_i  religion_i  metro_i  \\\n",
       "0       NaN       1.0       NaN  ...           0           0        0   \n",
       "1       NaN       1.0       NaN  ...           0           0        0   \n",
       "2       NaN       3.0       5.0  ...           0           0        0   \n",
       "3       NaN       1.0       NaN  ...           0           0        0   \n",
       "4       NaN       1.0       NaN  ...           0           0        0   \n",
       "\n",
       "    basewgt  adj_mod_basewgt   finalwgt  secu_p  sest  cmintvw  totalwgt_lb  \n",
       "0  3410.389         3869.350   6448.271       2     9      NaN        8.812  \n",
       "1  3410.389         3869.350   6448.271       2     9      NaN        7.875  \n",
       "2  7226.302         8567.549  12999.542       2    12      NaN        9.125  \n",
       "3  7226.302         8567.549  12999.542       2    12      NaN        7.000  \n",
       "4  7226.302         8567.549  12999.542       2    12      NaN        6.188  \n",
       "\n",
       "[5 rows x 244 columns]"
      ]
     },
     "execution_count": 5,
     "metadata": {},
     "output_type": "execute_result"
    }
   ],
   "source": [
    "# Creating a Pandas dataframe named pregnancy_df by reading the file 2002FemPreg.dat.gz \n",
    "# and definition file 2002FemPreg.dct\n",
    "\n",
    "dct_file='2002FemPreg.dct'\n",
    "dat_file='2002FemPreg.dat.gz'\n",
    "\n",
    "# reading the contents of dictionary file\n",
    "dictionary_file = thinkstats2.ReadStataDct(dct_file)\n",
    "# creating a dataframe pregnancy_df by reading contents of source file\n",
    "pregnancy_df = dictionary_file.ReadFixedWidth(dat_file, compression='gzip')\n",
    "# Calling the CleanFemPreg to cleanse the dataframe\n",
    "nsfg.CleanFemPreg(pregnancy_df)\n",
    "# Printing the top 5 lines of dataframe\n",
    "pregnancy_df.head()"
   ]
  },
  {
   "cell_type": "code",
   "execution_count": 6,
   "id": "696f733c",
   "metadata": {},
   "outputs": [
    {
     "name": "stdout",
     "output_type": "stream",
     "text": [
      "(13593, 244)\n"
     ]
    }
   ],
   "source": [
    "# Printing the row and column size of the Pregnancy dataframe\n",
    "print(pregnancy_df.shape)\n",
    "\n",
    "# Validating the contents of Dataframe. If all tests are a pass, no results will be returned, else assertion error will be raised.\n",
    "assert len(pregnancy_df) == 13593\n",
    "assert pregnancy_df.caseid[13592] == 12571\n",
    "assert pregnancy_df.pregordr.value_counts()[1] == 5033\n",
    "assert pregnancy_df.nbrnaliv.value_counts()[1] == 8981\n",
    "assert pregnancy_df.babysex.value_counts()[1] == 4641\n",
    "assert pregnancy_df.birthwgt_lb.value_counts()[7] == 3049\n",
    "assert pregnancy_df.birthwgt_oz.value_counts()[0] == 1037\n",
    "assert pregnancy_df.prglngth.value_counts()[39] == 4744\n",
    "assert pregnancy_df.outcome.value_counts()[1] == 9148\n",
    "assert pregnancy_df.birthord.value_counts()[1] == 4413\n",
    "assert pregnancy_df.agepreg.value_counts()[22.75] == 100\n",
    "assert pregnancy_df.totalwgt_lb.value_counts()[7.5] == 302\n",
    "\n",
    "weights = pregnancy_df.finalwgt.value_counts()\n",
    "key = max(weights.keys())\n",
    "assert pregnancy_df.finalwgt.value_counts()[key] == 6"
   ]
  },
  {
   "cell_type": "markdown",
   "id": "0868a438",
   "metadata": {},
   "source": [
    "# Exercise 1.1"
   ]
  },
  {
   "cell_type": "markdown",
   "id": "759698f2",
   "metadata": {},
   "source": [
    "#### Select the birthord column, print the value counts, and compare to results published in the codebook"
   ]
  },
  {
   "cell_type": "code",
   "execution_count": 7,
   "id": "3a43ceff",
   "metadata": {},
   "outputs": [
    {
     "data": {
      "text/plain": [
       "1.0     4413\n",
       "2.0     2874\n",
       "3.0     1234\n",
       "4.0      421\n",
       "5.0      126\n",
       "6.0       50\n",
       "7.0       20\n",
       "8.0        7\n",
       "9.0        2\n",
       "10.0       1\n",
       "Name: birthord, dtype: int64"
      ]
     },
     "execution_count": 7,
     "metadata": {},
     "output_type": "execute_result"
    }
   ],
   "source": [
    "# Validating the output with NFSG Codebook located at : https://ftp.cdc.gov/pub/Health_Statistics/NCHS/Dataset_Documentation/NSFG/Cycle6Codebook-Pregnancy.pdf\n",
    "pregnancy_df.birthord.value_counts().sort_index()"
   ]
  },
  {
   "cell_type": "markdown",
   "id": "8918622f",
   "metadata": {},
   "source": [
    "#### We can also use isnull to count the number of nans."
   ]
  },
  {
   "cell_type": "code",
   "execution_count": 8,
   "id": "24cb51ac",
   "metadata": {},
   "outputs": [
    {
     "data": {
      "text/plain": [
       "4445"
      ]
     },
     "execution_count": 8,
     "metadata": {},
     "output_type": "execute_result"
    }
   ],
   "source": [
    "# Using isnull function to calculate the total number of nulls\n",
    "pregnancy_df.birthord.isnull().sum()"
   ]
  },
  {
   "cell_type": "markdown",
   "id": "d12ed82f",
   "metadata": {},
   "source": [
    "#### Select the `prglngth` column, print the value counts, and compare to results published in the [codebook]"
   ]
  },
  {
   "cell_type": "code",
   "execution_count": 9,
   "id": "b81e7e2f",
   "metadata": {},
   "outputs": [
    {
     "data": {
      "text/plain": [
       "0      15\n",
       "1       9\n",
       "2      78\n",
       "3     151\n",
       "4     412\n",
       "     ... \n",
       "45     10\n",
       "46      1\n",
       "47      1\n",
       "48      7\n",
       "50      2\n",
       "Name: prglngth, Length: 50, dtype: int64"
      ]
     },
     "execution_count": 9,
     "metadata": {},
     "output_type": "execute_result"
    }
   ],
   "source": [
    "# Validating the output with NFSG Codebook located at : https://ftp.cdc.gov/pub/Health_Statistics/NCHS/Dataset_Documentation/NSFG/Cycle6Codebook-Pregnancy.pdf\n",
    "pregnancy_df.prglngth.value_counts().sort_index()"
   ]
  },
  {
   "cell_type": "markdown",
   "id": "4b0d156d",
   "metadata": {},
   "source": [
    "####  To compute the mean of a column, you can invoke the mean method on a Series. For example, here is the mean birthweight in pounds:"
   ]
  },
  {
   "cell_type": "code",
   "execution_count": 10,
   "id": "97e86a4a",
   "metadata": {},
   "outputs": [
    {
     "data": {
      "text/plain": [
       "7.265628457623368"
      ]
     },
     "execution_count": 10,
     "metadata": {},
     "output_type": "execute_result"
    }
   ],
   "source": [
    "# Calculating mean of totalwgt_lb column \n",
    "pregnancy_df.totalwgt_lb.mean()"
   ]
  },
  {
   "cell_type": "markdown",
   "id": "037ea017",
   "metadata": {},
   "source": [
    "#### Create a new column named totalwgt_kg that contains birth weight in kilograms. Compute its mean. Remember that when you create a new column, you have to use dictionary syntax, not dot notation."
   ]
  },
  {
   "cell_type": "code",
   "execution_count": 11,
   "id": "9bbbbd16",
   "metadata": {},
   "outputs": [
    {
     "name": "stdout",
     "output_type": "stream",
     "text": [
      "The Mean weight in Kilogram is 3.302558389828807\n"
     ]
    }
   ],
   "source": [
    "# Converting the Total weight in pounds to Kilogram by dividing by 2.2\n",
    "pregnancy_df[\"totalwgt_kg\"]=pregnancy_df[\"totalwgt_lb\"]/2.20\n",
    "# calculating mean of Kilogram using mean method\n",
    "totalwgt_kg_mean=pregnancy_df.totalwgt_kg.mean()\n",
    "print(f\"The Mean weight in Kilogram is {totalwgt_kg_mean}\")\n"
   ]
  },
  {
   "cell_type": "markdown",
   "id": "77332a24",
   "metadata": {},
   "source": [
    "#### nsfg.py also provides ReadFemResp, which reads the female respondents file and returns a DataFrame:"
   ]
  },
  {
   "cell_type": "code",
   "execution_count": 12,
   "id": "ea9e9e30",
   "metadata": {},
   "outputs": [],
   "source": [
    "# Downloading the file 2002FemResp.dat.gz and its structure from Github\n",
    "# using download_file function\n",
    "download_file(\"https://github.com/AllenDowney/ThinkStats2/raw/master/code/2002FemResp.dct\")\n",
    "download_file(\"https://github.com/AllenDowney/ThinkStats2/raw/master/code/2002FemResp.dat.gz\")"
   ]
  },
  {
   "cell_type": "code",
   "execution_count": 13,
   "id": "06525cd7",
   "metadata": {},
   "outputs": [],
   "source": [
    "# Creating a new dataframe to store the Female Respondents file\n",
    "dct_file_resp='2002FemResp.dct'\n",
    "dat_file_resp='2002FemResp.dat.gz'\n",
    "\n",
    "# creating a dictioary to read the contents and creating the dataframe from its definition.\n",
    "dictionary_resp = thinkstats2.ReadStataDct(dct_file_resp)\n",
    "respondents_df = dictionary_resp.ReadFixedWidth(dat_file_resp, compression='gzip')\n",
    "# Validating the dataframe results\n",
    "assert(len(respondents_df) == 7643)\n",
    "assert(respondents_df.pregnum.value_counts()[1] == 1267)"
   ]
  },
  {
   "cell_type": "markdown",
   "id": "8f744282",
   "metadata": {},
   "source": [
    "#### DataFrame provides a method head that displays the first five rows:"
   ]
  },
  {
   "cell_type": "code",
   "execution_count": 14,
   "id": "53f47256",
   "metadata": {},
   "outputs": [
    {
     "data": {
      "text/html": [
       "<div>\n",
       "<style scoped>\n",
       "    .dataframe tbody tr th:only-of-type {\n",
       "        vertical-align: middle;\n",
       "    }\n",
       "\n",
       "    .dataframe tbody tr th {\n",
       "        vertical-align: top;\n",
       "    }\n",
       "\n",
       "    .dataframe thead th {\n",
       "        text-align: right;\n",
       "    }\n",
       "</style>\n",
       "<table border=\"1\" class=\"dataframe\">\n",
       "  <thead>\n",
       "    <tr style=\"text-align: right;\">\n",
       "      <th></th>\n",
       "      <th>caseid</th>\n",
       "      <th>rscrinf</th>\n",
       "      <th>rdormres</th>\n",
       "      <th>rostscrn</th>\n",
       "      <th>rscreenhisp</th>\n",
       "      <th>rscreenrace</th>\n",
       "      <th>age_a</th>\n",
       "      <th>age_r</th>\n",
       "      <th>cmbirth</th>\n",
       "      <th>agescrn</th>\n",
       "      <th>...</th>\n",
       "      <th>pubassis_i</th>\n",
       "      <th>basewgt</th>\n",
       "      <th>adj_mod_basewgt</th>\n",
       "      <th>finalwgt</th>\n",
       "      <th>secu_r</th>\n",
       "      <th>sest</th>\n",
       "      <th>cmintvw</th>\n",
       "      <th>cmlstyr</th>\n",
       "      <th>screentime</th>\n",
       "      <th>intvlngth</th>\n",
       "    </tr>\n",
       "  </thead>\n",
       "  <tbody>\n",
       "    <tr>\n",
       "      <th>0</th>\n",
       "      <td>2298</td>\n",
       "      <td>1</td>\n",
       "      <td>5</td>\n",
       "      <td>5</td>\n",
       "      <td>1</td>\n",
       "      <td>5.0</td>\n",
       "      <td>27</td>\n",
       "      <td>27</td>\n",
       "      <td>902</td>\n",
       "      <td>27</td>\n",
       "      <td>...</td>\n",
       "      <td>0</td>\n",
       "      <td>3247.917</td>\n",
       "      <td>5123.760</td>\n",
       "      <td>5556.717</td>\n",
       "      <td>2</td>\n",
       "      <td>18</td>\n",
       "      <td>1234</td>\n",
       "      <td>1222</td>\n",
       "      <td>18:26:36</td>\n",
       "      <td>110.493</td>\n",
       "    </tr>\n",
       "    <tr>\n",
       "      <th>1</th>\n",
       "      <td>5012</td>\n",
       "      <td>1</td>\n",
       "      <td>5</td>\n",
       "      <td>1</td>\n",
       "      <td>5</td>\n",
       "      <td>5.0</td>\n",
       "      <td>42</td>\n",
       "      <td>42</td>\n",
       "      <td>718</td>\n",
       "      <td>42</td>\n",
       "      <td>...</td>\n",
       "      <td>0</td>\n",
       "      <td>2335.279</td>\n",
       "      <td>2846.799</td>\n",
       "      <td>4744.191</td>\n",
       "      <td>2</td>\n",
       "      <td>18</td>\n",
       "      <td>1233</td>\n",
       "      <td>1221</td>\n",
       "      <td>16:30:59</td>\n",
       "      <td>64.294</td>\n",
       "    </tr>\n",
       "    <tr>\n",
       "      <th>2</th>\n",
       "      <td>11586</td>\n",
       "      <td>1</td>\n",
       "      <td>5</td>\n",
       "      <td>1</td>\n",
       "      <td>5</td>\n",
       "      <td>5.0</td>\n",
       "      <td>43</td>\n",
       "      <td>43</td>\n",
       "      <td>708</td>\n",
       "      <td>43</td>\n",
       "      <td>...</td>\n",
       "      <td>0</td>\n",
       "      <td>2335.279</td>\n",
       "      <td>2846.799</td>\n",
       "      <td>4744.191</td>\n",
       "      <td>2</td>\n",
       "      <td>18</td>\n",
       "      <td>1234</td>\n",
       "      <td>1222</td>\n",
       "      <td>18:19:09</td>\n",
       "      <td>75.149</td>\n",
       "    </tr>\n",
       "    <tr>\n",
       "      <th>3</th>\n",
       "      <td>6794</td>\n",
       "      <td>5</td>\n",
       "      <td>5</td>\n",
       "      <td>4</td>\n",
       "      <td>1</td>\n",
       "      <td>5.0</td>\n",
       "      <td>15</td>\n",
       "      <td>15</td>\n",
       "      <td>1042</td>\n",
       "      <td>15</td>\n",
       "      <td>...</td>\n",
       "      <td>0</td>\n",
       "      <td>3783.152</td>\n",
       "      <td>5071.464</td>\n",
       "      <td>5923.977</td>\n",
       "      <td>2</td>\n",
       "      <td>18</td>\n",
       "      <td>1234</td>\n",
       "      <td>1222</td>\n",
       "      <td>15:54:43</td>\n",
       "      <td>28.643</td>\n",
       "    </tr>\n",
       "    <tr>\n",
       "      <th>4</th>\n",
       "      <td>616</td>\n",
       "      <td>1</td>\n",
       "      <td>5</td>\n",
       "      <td>4</td>\n",
       "      <td>1</td>\n",
       "      <td>5.0</td>\n",
       "      <td>20</td>\n",
       "      <td>20</td>\n",
       "      <td>991</td>\n",
       "      <td>20</td>\n",
       "      <td>...</td>\n",
       "      <td>0</td>\n",
       "      <td>5341.330</td>\n",
       "      <td>6437.336</td>\n",
       "      <td>7229.128</td>\n",
       "      <td>2</td>\n",
       "      <td>18</td>\n",
       "      <td>1233</td>\n",
       "      <td>1221</td>\n",
       "      <td>14:19:44</td>\n",
       "      <td>69.503</td>\n",
       "    </tr>\n",
       "  </tbody>\n",
       "</table>\n",
       "<p>5 rows × 3087 columns</p>\n",
       "</div>"
      ],
      "text/plain": [
       "   caseid  rscrinf  rdormres  rostscrn  rscreenhisp  rscreenrace  age_a  \\\n",
       "0    2298        1         5         5            1          5.0     27   \n",
       "1    5012        1         5         1            5          5.0     42   \n",
       "2   11586        1         5         1            5          5.0     43   \n",
       "3    6794        5         5         4            1          5.0     15   \n",
       "4     616        1         5         4            1          5.0     20   \n",
       "\n",
       "   age_r  cmbirth  agescrn  ...  pubassis_i   basewgt  adj_mod_basewgt  \\\n",
       "0     27      902       27  ...           0  3247.917         5123.760   \n",
       "1     42      718       42  ...           0  2335.279         2846.799   \n",
       "2     43      708       43  ...           0  2335.279         2846.799   \n",
       "3     15     1042       15  ...           0  3783.152         5071.464   \n",
       "4     20      991       20  ...           0  5341.330         6437.336   \n",
       "\n",
       "   finalwgt  secu_r  sest  cmintvw  cmlstyr  screentime  intvlngth  \n",
       "0  5556.717       2    18     1234     1222    18:26:36    110.493  \n",
       "1  4744.191       2    18     1233     1221    16:30:59     64.294  \n",
       "2  4744.191       2    18     1234     1222    18:19:09     75.149  \n",
       "3  5923.977       2    18     1234     1222    15:54:43     28.643  \n",
       "4  7229.128       2    18     1233     1221    14:19:44     69.503  \n",
       "\n",
       "[5 rows x 3087 columns]"
      ]
     },
     "execution_count": 14,
     "metadata": {},
     "output_type": "execute_result"
    }
   ],
   "source": [
    "respondents_df.head()"
   ]
  },
  {
   "cell_type": "markdown",
   "id": "387cc4d4",
   "metadata": {},
   "source": [
    "#### Select the age_r column from resp and print the value counts. How old are the youngest and oldest respondents?"
   ]
  },
  {
   "cell_type": "code",
   "execution_count": 15,
   "id": "e6fd39aa",
   "metadata": {},
   "outputs": [
    {
     "data": {
      "text/plain": [
       "15    217\n",
       "16    223\n",
       "17    234\n",
       "18    235\n",
       "19    241\n",
       "     ... \n",
       "40    256\n",
       "41    250\n",
       "42    215\n",
       "43    253\n",
       "44    235\n",
       "Name: age_r, Length: 30, dtype: int64"
      ]
     },
     "execution_count": 15,
     "metadata": {},
     "output_type": "execute_result"
    }
   ],
   "source": [
    "# Printing the count of different ages in respondents_df\n",
    "respondents_df.age_r.value_counts().sort_index()\n"
   ]
  },
  {
   "cell_type": "code",
   "execution_count": 16,
   "id": "4423d6f1",
   "metadata": {},
   "outputs": [
    {
     "name": "stdout",
     "output_type": "stream",
     "text": [
      "The Youngest respondents are of age 15 and oldest are of 44 years old.\n"
     ]
    }
   ],
   "source": [
    "# Printing youngest and oldest respondent's age\n",
    "print(f\"The Youngest respondents are of age {respondents_df.age_r.min()} and oldest are of {respondents_df.age_r.max()} years old.\")"
   ]
  },
  {
   "cell_type": "markdown",
   "id": "80355409",
   "metadata": {},
   "source": [
    "#### We can use the caseid to match up rows from resp and preg. For example, we can select the row from resp for caseid 2298 like this:"
   ]
  },
  {
   "cell_type": "code",
   "execution_count": 17,
   "id": "da5298c1",
   "metadata": {},
   "outputs": [
    {
     "data": {
      "text/html": [
       "<div>\n",
       "<style scoped>\n",
       "    .dataframe tbody tr th:only-of-type {\n",
       "        vertical-align: middle;\n",
       "    }\n",
       "\n",
       "    .dataframe tbody tr th {\n",
       "        vertical-align: top;\n",
       "    }\n",
       "\n",
       "    .dataframe thead th {\n",
       "        text-align: right;\n",
       "    }\n",
       "</style>\n",
       "<table border=\"1\" class=\"dataframe\">\n",
       "  <thead>\n",
       "    <tr style=\"text-align: right;\">\n",
       "      <th></th>\n",
       "      <th>caseid</th>\n",
       "      <th>rscrinf</th>\n",
       "      <th>rdormres</th>\n",
       "      <th>rostscrn</th>\n",
       "      <th>rscreenhisp</th>\n",
       "      <th>rscreenrace</th>\n",
       "      <th>age_a</th>\n",
       "      <th>age_r</th>\n",
       "      <th>cmbirth</th>\n",
       "      <th>agescrn</th>\n",
       "      <th>...</th>\n",
       "      <th>pubassis_i</th>\n",
       "      <th>basewgt</th>\n",
       "      <th>adj_mod_basewgt</th>\n",
       "      <th>finalwgt</th>\n",
       "      <th>secu_r</th>\n",
       "      <th>sest</th>\n",
       "      <th>cmintvw</th>\n",
       "      <th>cmlstyr</th>\n",
       "      <th>screentime</th>\n",
       "      <th>intvlngth</th>\n",
       "    </tr>\n",
       "  </thead>\n",
       "  <tbody>\n",
       "    <tr>\n",
       "      <th>0</th>\n",
       "      <td>2298</td>\n",
       "      <td>1</td>\n",
       "      <td>5</td>\n",
       "      <td>5</td>\n",
       "      <td>1</td>\n",
       "      <td>5.0</td>\n",
       "      <td>27</td>\n",
       "      <td>27</td>\n",
       "      <td>902</td>\n",
       "      <td>27</td>\n",
       "      <td>...</td>\n",
       "      <td>0</td>\n",
       "      <td>3247.917</td>\n",
       "      <td>5123.76</td>\n",
       "      <td>5556.717</td>\n",
       "      <td>2</td>\n",
       "      <td>18</td>\n",
       "      <td>1234</td>\n",
       "      <td>1222</td>\n",
       "      <td>18:26:36</td>\n",
       "      <td>110.493</td>\n",
       "    </tr>\n",
       "  </tbody>\n",
       "</table>\n",
       "<p>1 rows × 3087 columns</p>\n",
       "</div>"
      ],
      "text/plain": [
       "   caseid  rscrinf  rdormres  rostscrn  rscreenhisp  rscreenrace  age_a  \\\n",
       "0    2298        1         5         5            1          5.0     27   \n",
       "\n",
       "   age_r  cmbirth  agescrn  ...  pubassis_i   basewgt  adj_mod_basewgt  \\\n",
       "0     27      902       27  ...           0  3247.917          5123.76   \n",
       "\n",
       "   finalwgt  secu_r  sest  cmintvw  cmlstyr  screentime  intvlngth  \n",
       "0  5556.717       2    18     1234     1222    18:26:36    110.493  \n",
       "\n",
       "[1 rows x 3087 columns]"
      ]
     },
     "execution_count": 17,
     "metadata": {},
     "output_type": "execute_result"
    }
   ],
   "source": [
    "respondents_df[respondents_df.caseid==2298]"
   ]
  },
  {
   "cell_type": "markdown",
   "id": "58162ec5",
   "metadata": {},
   "source": [
    "#### And we can get the corresponding rows from preg like this:"
   ]
  },
  {
   "cell_type": "code",
   "execution_count": 18,
   "id": "6463c818",
   "metadata": {},
   "outputs": [
    {
     "data": {
      "text/html": [
       "<div>\n",
       "<style scoped>\n",
       "    .dataframe tbody tr th:only-of-type {\n",
       "        vertical-align: middle;\n",
       "    }\n",
       "\n",
       "    .dataframe tbody tr th {\n",
       "        vertical-align: top;\n",
       "    }\n",
       "\n",
       "    .dataframe thead th {\n",
       "        text-align: right;\n",
       "    }\n",
       "</style>\n",
       "<table border=\"1\" class=\"dataframe\">\n",
       "  <thead>\n",
       "    <tr style=\"text-align: right;\">\n",
       "      <th></th>\n",
       "      <th>caseid</th>\n",
       "      <th>pregordr</th>\n",
       "      <th>howpreg_n</th>\n",
       "      <th>howpreg_p</th>\n",
       "      <th>moscurrp</th>\n",
       "      <th>nowprgdk</th>\n",
       "      <th>pregend1</th>\n",
       "      <th>pregend2</th>\n",
       "      <th>nbrnaliv</th>\n",
       "      <th>multbrth</th>\n",
       "      <th>...</th>\n",
       "      <th>religion_i</th>\n",
       "      <th>metro_i</th>\n",
       "      <th>basewgt</th>\n",
       "      <th>adj_mod_basewgt</th>\n",
       "      <th>finalwgt</th>\n",
       "      <th>secu_p</th>\n",
       "      <th>sest</th>\n",
       "      <th>cmintvw</th>\n",
       "      <th>totalwgt_lb</th>\n",
       "      <th>totalwgt_kg</th>\n",
       "    </tr>\n",
       "  </thead>\n",
       "  <tbody>\n",
       "    <tr>\n",
       "      <th>2610</th>\n",
       "      <td>2298</td>\n",
       "      <td>1</td>\n",
       "      <td>NaN</td>\n",
       "      <td>NaN</td>\n",
       "      <td>NaN</td>\n",
       "      <td>NaN</td>\n",
       "      <td>6.0</td>\n",
       "      <td>NaN</td>\n",
       "      <td>1.0</td>\n",
       "      <td>NaN</td>\n",
       "      <td>...</td>\n",
       "      <td>0</td>\n",
       "      <td>0</td>\n",
       "      <td>3247.917</td>\n",
       "      <td>5123.76</td>\n",
       "      <td>5556.717</td>\n",
       "      <td>2</td>\n",
       "      <td>18</td>\n",
       "      <td>NaN</td>\n",
       "      <td>6.875</td>\n",
       "      <td>3.125</td>\n",
       "    </tr>\n",
       "    <tr>\n",
       "      <th>2611</th>\n",
       "      <td>2298</td>\n",
       "      <td>2</td>\n",
       "      <td>NaN</td>\n",
       "      <td>NaN</td>\n",
       "      <td>NaN</td>\n",
       "      <td>NaN</td>\n",
       "      <td>6.0</td>\n",
       "      <td>NaN</td>\n",
       "      <td>1.0</td>\n",
       "      <td>NaN</td>\n",
       "      <td>...</td>\n",
       "      <td>0</td>\n",
       "      <td>0</td>\n",
       "      <td>3247.917</td>\n",
       "      <td>5123.76</td>\n",
       "      <td>5556.717</td>\n",
       "      <td>2</td>\n",
       "      <td>18</td>\n",
       "      <td>NaN</td>\n",
       "      <td>5.500</td>\n",
       "      <td>2.500</td>\n",
       "    </tr>\n",
       "    <tr>\n",
       "      <th>2612</th>\n",
       "      <td>2298</td>\n",
       "      <td>3</td>\n",
       "      <td>NaN</td>\n",
       "      <td>NaN</td>\n",
       "      <td>NaN</td>\n",
       "      <td>NaN</td>\n",
       "      <td>6.0</td>\n",
       "      <td>NaN</td>\n",
       "      <td>1.0</td>\n",
       "      <td>NaN</td>\n",
       "      <td>...</td>\n",
       "      <td>0</td>\n",
       "      <td>0</td>\n",
       "      <td>3247.917</td>\n",
       "      <td>5123.76</td>\n",
       "      <td>5556.717</td>\n",
       "      <td>2</td>\n",
       "      <td>18</td>\n",
       "      <td>NaN</td>\n",
       "      <td>4.188</td>\n",
       "      <td>1.903</td>\n",
       "    </tr>\n",
       "    <tr>\n",
       "      <th>2613</th>\n",
       "      <td>2298</td>\n",
       "      <td>4</td>\n",
       "      <td>NaN</td>\n",
       "      <td>NaN</td>\n",
       "      <td>NaN</td>\n",
       "      <td>NaN</td>\n",
       "      <td>6.0</td>\n",
       "      <td>NaN</td>\n",
       "      <td>1.0</td>\n",
       "      <td>NaN</td>\n",
       "      <td>...</td>\n",
       "      <td>0</td>\n",
       "      <td>0</td>\n",
       "      <td>3247.917</td>\n",
       "      <td>5123.76</td>\n",
       "      <td>5556.717</td>\n",
       "      <td>2</td>\n",
       "      <td>18</td>\n",
       "      <td>NaN</td>\n",
       "      <td>6.875</td>\n",
       "      <td>3.125</td>\n",
       "    </tr>\n",
       "  </tbody>\n",
       "</table>\n",
       "<p>4 rows × 245 columns</p>\n",
       "</div>"
      ],
      "text/plain": [
       "      caseid  pregordr  howpreg_n  howpreg_p  moscurrp  nowprgdk  pregend1  \\\n",
       "2610    2298         1        NaN        NaN       NaN       NaN       6.0   \n",
       "2611    2298         2        NaN        NaN       NaN       NaN       6.0   \n",
       "2612    2298         3        NaN        NaN       NaN       NaN       6.0   \n",
       "2613    2298         4        NaN        NaN       NaN       NaN       6.0   \n",
       "\n",
       "      pregend2  nbrnaliv  multbrth  ...  religion_i  metro_i   basewgt  \\\n",
       "2610       NaN       1.0       NaN  ...           0        0  3247.917   \n",
       "2611       NaN       1.0       NaN  ...           0        0  3247.917   \n",
       "2612       NaN       1.0       NaN  ...           0        0  3247.917   \n",
       "2613       NaN       1.0       NaN  ...           0        0  3247.917   \n",
       "\n",
       "      adj_mod_basewgt  finalwgt  secu_p  sest  cmintvw  totalwgt_lb  \\\n",
       "2610          5123.76  5556.717       2    18      NaN        6.875   \n",
       "2611          5123.76  5556.717       2    18      NaN        5.500   \n",
       "2612          5123.76  5556.717       2    18      NaN        4.188   \n",
       "2613          5123.76  5556.717       2    18      NaN        6.875   \n",
       "\n",
       "      totalwgt_kg  \n",
       "2610        3.125  \n",
       "2611        2.500  \n",
       "2612        1.903  \n",
       "2613        3.125  \n",
       "\n",
       "[4 rows x 245 columns]"
      ]
     },
     "execution_count": 18,
     "metadata": {},
     "output_type": "execute_result"
    }
   ],
   "source": [
    "pregnancy_df[pregnancy_df.caseid==2298]"
   ]
  },
  {
   "cell_type": "markdown",
   "id": "2d7491fc",
   "metadata": {},
   "source": [
    "#### How old is the respondent with caseid 1?"
   ]
  },
  {
   "cell_type": "code",
   "execution_count": 19,
   "id": "3d9f5fb5",
   "metadata": {},
   "outputs": [
    {
     "data": {
      "text/plain": [
       "1069    44\n",
       "Name: age_r, dtype: int64"
      ]
     },
     "execution_count": 19,
     "metadata": {},
     "output_type": "execute_result"
    }
   ],
   "source": [
    "respondents_df[respondents_df.caseid==1].age_r"
   ]
  },
  {
   "cell_type": "markdown",
   "id": "9551a499",
   "metadata": {},
   "source": [
    "#### What are the pregnancy lengths for the respondent with caseid 2298?"
   ]
  },
  {
   "cell_type": "code",
   "execution_count": 20,
   "id": "4deb074d",
   "metadata": {},
   "outputs": [
    {
     "data": {
      "text/plain": [
       "2610    40\n",
       "2611    36\n",
       "2612    30\n",
       "2613    40\n",
       "Name: prglngth, dtype: int64"
      ]
     },
     "execution_count": 20,
     "metadata": {},
     "output_type": "execute_result"
    }
   ],
   "source": [
    "pregnancy_df[pregnancy_df.caseid==2298].prglngth"
   ]
  },
  {
   "cell_type": "markdown",
   "id": "84a95961",
   "metadata": {},
   "source": [
    "#### What was the birthweight of the first baby born to the respondent with caseid 5012?"
   ]
  },
  {
   "cell_type": "code",
   "execution_count": 21,
   "id": "d28e39ed",
   "metadata": {},
   "outputs": [
    {
     "data": {
      "text/plain": [
       "5515    6.0\n",
       "Name: birthwgt_lb, dtype: float64"
      ]
     },
     "execution_count": 21,
     "metadata": {},
     "output_type": "execute_result"
    }
   ],
   "source": [
    "pregnancy_df[pregnancy_df.caseid==5012].birthwgt_lb"
   ]
  },
  {
   "cell_type": "markdown",
   "id": "a8a71e98",
   "metadata": {},
   "source": [
    "# Exercise 1-2"
   ]
  },
  {
   "cell_type": "code",
   "execution_count": 22,
   "id": "49bf35a7",
   "metadata": {},
   "outputs": [
    {
     "data": {
      "text/html": [
       "<div>\n",
       "<style scoped>\n",
       "    .dataframe tbody tr th:only-of-type {\n",
       "        vertical-align: middle;\n",
       "    }\n",
       "\n",
       "    .dataframe tbody tr th {\n",
       "        vertical-align: top;\n",
       "    }\n",
       "\n",
       "    .dataframe thead th {\n",
       "        text-align: right;\n",
       "    }\n",
       "</style>\n",
       "<table border=\"1\" class=\"dataframe\">\n",
       "  <thead>\n",
       "    <tr style=\"text-align: right;\">\n",
       "      <th></th>\n",
       "      <th>caseid</th>\n",
       "      <th>rscrinf</th>\n",
       "      <th>rdormres</th>\n",
       "      <th>rostscrn</th>\n",
       "      <th>rscreenhisp</th>\n",
       "      <th>rscreenrace</th>\n",
       "      <th>age_a</th>\n",
       "      <th>age_r</th>\n",
       "      <th>cmbirth</th>\n",
       "      <th>agescrn</th>\n",
       "      <th>...</th>\n",
       "      <th>pubassis_i</th>\n",
       "      <th>basewgt</th>\n",
       "      <th>adj_mod_basewgt</th>\n",
       "      <th>finalwgt</th>\n",
       "      <th>secu_r</th>\n",
       "      <th>sest</th>\n",
       "      <th>cmintvw</th>\n",
       "      <th>cmlstyr</th>\n",
       "      <th>screentime</th>\n",
       "      <th>intvlngth</th>\n",
       "    </tr>\n",
       "  </thead>\n",
       "  <tbody>\n",
       "    <tr>\n",
       "      <th>0</th>\n",
       "      <td>2298</td>\n",
       "      <td>1</td>\n",
       "      <td>5</td>\n",
       "      <td>5</td>\n",
       "      <td>1</td>\n",
       "      <td>5.0</td>\n",
       "      <td>27</td>\n",
       "      <td>27</td>\n",
       "      <td>902</td>\n",
       "      <td>27</td>\n",
       "      <td>...</td>\n",
       "      <td>0</td>\n",
       "      <td>3247.917</td>\n",
       "      <td>5123.760</td>\n",
       "      <td>5556.717</td>\n",
       "      <td>2</td>\n",
       "      <td>18</td>\n",
       "      <td>1234</td>\n",
       "      <td>1222</td>\n",
       "      <td>18:26:36</td>\n",
       "      <td>110.493</td>\n",
       "    </tr>\n",
       "    <tr>\n",
       "      <th>1</th>\n",
       "      <td>5012</td>\n",
       "      <td>1</td>\n",
       "      <td>5</td>\n",
       "      <td>1</td>\n",
       "      <td>5</td>\n",
       "      <td>5.0</td>\n",
       "      <td>42</td>\n",
       "      <td>42</td>\n",
       "      <td>718</td>\n",
       "      <td>42</td>\n",
       "      <td>...</td>\n",
       "      <td>0</td>\n",
       "      <td>2335.279</td>\n",
       "      <td>2846.799</td>\n",
       "      <td>4744.191</td>\n",
       "      <td>2</td>\n",
       "      <td>18</td>\n",
       "      <td>1233</td>\n",
       "      <td>1221</td>\n",
       "      <td>16:30:59</td>\n",
       "      <td>64.294</td>\n",
       "    </tr>\n",
       "    <tr>\n",
       "      <th>2</th>\n",
       "      <td>11586</td>\n",
       "      <td>1</td>\n",
       "      <td>5</td>\n",
       "      <td>1</td>\n",
       "      <td>5</td>\n",
       "      <td>5.0</td>\n",
       "      <td>43</td>\n",
       "      <td>43</td>\n",
       "      <td>708</td>\n",
       "      <td>43</td>\n",
       "      <td>...</td>\n",
       "      <td>0</td>\n",
       "      <td>2335.279</td>\n",
       "      <td>2846.799</td>\n",
       "      <td>4744.191</td>\n",
       "      <td>2</td>\n",
       "      <td>18</td>\n",
       "      <td>1234</td>\n",
       "      <td>1222</td>\n",
       "      <td>18:19:09</td>\n",
       "      <td>75.149</td>\n",
       "    </tr>\n",
       "    <tr>\n",
       "      <th>3</th>\n",
       "      <td>6794</td>\n",
       "      <td>5</td>\n",
       "      <td>5</td>\n",
       "      <td>4</td>\n",
       "      <td>1</td>\n",
       "      <td>5.0</td>\n",
       "      <td>15</td>\n",
       "      <td>15</td>\n",
       "      <td>1042</td>\n",
       "      <td>15</td>\n",
       "      <td>...</td>\n",
       "      <td>0</td>\n",
       "      <td>3783.152</td>\n",
       "      <td>5071.464</td>\n",
       "      <td>5923.977</td>\n",
       "      <td>2</td>\n",
       "      <td>18</td>\n",
       "      <td>1234</td>\n",
       "      <td>1222</td>\n",
       "      <td>15:54:43</td>\n",
       "      <td>28.643</td>\n",
       "    </tr>\n",
       "    <tr>\n",
       "      <th>4</th>\n",
       "      <td>616</td>\n",
       "      <td>1</td>\n",
       "      <td>5</td>\n",
       "      <td>4</td>\n",
       "      <td>1</td>\n",
       "      <td>5.0</td>\n",
       "      <td>20</td>\n",
       "      <td>20</td>\n",
       "      <td>991</td>\n",
       "      <td>20</td>\n",
       "      <td>...</td>\n",
       "      <td>0</td>\n",
       "      <td>5341.330</td>\n",
       "      <td>6437.336</td>\n",
       "      <td>7229.128</td>\n",
       "      <td>2</td>\n",
       "      <td>18</td>\n",
       "      <td>1233</td>\n",
       "      <td>1221</td>\n",
       "      <td>14:19:44</td>\n",
       "      <td>69.503</td>\n",
       "    </tr>\n",
       "  </tbody>\n",
       "</table>\n",
       "<p>5 rows × 3087 columns</p>\n",
       "</div>"
      ],
      "text/plain": [
       "   caseid  rscrinf  rdormres  rostscrn  rscreenhisp  rscreenrace  age_a  \\\n",
       "0    2298        1         5         5            1          5.0     27   \n",
       "1    5012        1         5         1            5          5.0     42   \n",
       "2   11586        1         5         1            5          5.0     43   \n",
       "3    6794        5         5         4            1          5.0     15   \n",
       "4     616        1         5         4            1          5.0     20   \n",
       "\n",
       "   age_r  cmbirth  agescrn  ...  pubassis_i   basewgt  adj_mod_basewgt  \\\n",
       "0     27      902       27  ...           0  3247.917         5123.760   \n",
       "1     42      718       42  ...           0  2335.279         2846.799   \n",
       "2     43      708       43  ...           0  2335.279         2846.799   \n",
       "3     15     1042       15  ...           0  3783.152         5071.464   \n",
       "4     20      991       20  ...           0  5341.330         6437.336   \n",
       "\n",
       "   finalwgt  secu_r  sest  cmintvw  cmlstyr  screentime  intvlngth  \n",
       "0  5556.717       2    18     1234     1222    18:26:36    110.493  \n",
       "1  4744.191       2    18     1233     1221    16:30:59     64.294  \n",
       "2  4744.191       2    18     1234     1222    18:19:09     75.149  \n",
       "3  5923.977       2    18     1234     1222    15:54:43     28.643  \n",
       "4  7229.128       2    18     1233     1221    14:19:44     69.503  \n",
       "\n",
       "[5 rows x 3087 columns]"
      ]
     },
     "execution_count": 22,
     "metadata": {},
     "output_type": "execute_result"
    }
   ],
   "source": [
    "# Using the 2002FemResp.data.gz that was used as part of exercise 1.1.\n",
    "respondents_df.head()"
   ]
  },
  {
   "cell_type": "markdown",
   "id": "0e4486f9",
   "metadata": {},
   "source": [
    "#### The variable pregnum is a recode that represents how many times each respondent has been pregnant. Print the value counts for this variable and compare them to the published results in NFSG codebook."
   ]
  },
  {
   "cell_type": "code",
   "execution_count": 23,
   "id": "f5794b84",
   "metadata": {},
   "outputs": [
    {
     "data": {
      "text/plain": [
       "0     2610\n",
       "1     1267\n",
       "2     1432\n",
       "3     1110\n",
       "4      611\n",
       "5      305\n",
       "6      150\n",
       "7       80\n",
       "8       40\n",
       "9       21\n",
       "10       9\n",
       "11       3\n",
       "12       2\n",
       "14       2\n",
       "19       1\n",
       "Name: pregnum, dtype: int64"
      ]
     },
     "execution_count": 23,
     "metadata": {},
     "output_type": "execute_result"
    }
   ],
   "source": [
    "# Validating the results in https://ftp.cdc.gov/pub/Health_Statistics/NCHS/Dataset_Documentation/NSFG/Cycle6Codebook-Female.pdf\n",
    "respondents_df.pregnum.value_counts().sort_index()"
   ]
  },
  {
   "cell_type": "markdown",
   "id": "669c5050",
   "metadata": {},
   "source": [
    "#### You can also cross validate the respondent and pregnancy files by comparing the pregnum for each respondent with the number of records in pregnancy file.\n"
   ]
  },
  {
   "cell_type": "code",
   "execution_count": 24,
   "id": "87461b20",
   "metadata": {},
   "outputs": [
    {
     "name": "stdout",
     "output_type": "stream",
     "text": [
      "{1: [0, 1], 2: [2, 3, 4], 6: [5, 6, 7], 7: [8, 9], 12: [10], 14: [11, 12, 13], 15: [14, 15, 16], 18: [17, 18], 21: [19, 20], 23: [21, 22]}\n"
     ]
    }
   ],
   "source": [
    "# creating a pregnancy Map for Pregnancy Dataframe using defaultdict function with list argument from collections module\n",
    "pregnancy_dict = defaultdict(list)\n",
    "\n",
    "# Iterating through each item in caseid and appending to dictionary map \n",
    "for preg_rowNum, preg_caseid in pregnancy_df.caseid.items():\n",
    "    pregnancy_dict[preg_caseid].append(preg_rowNum)\n",
    "\n",
    "    # Using itertools to print sample output from pregnancy_dict\n",
    "pregnancy_dict_sample = dict(itertools.islice(pregnancy_dict.items(), 10))\n",
    "print(pregnancy_dict_sample)\n",
    "    "
   ]
  },
  {
   "cell_type": "markdown",
   "id": "a091b453",
   "metadata": {},
   "source": [
    "#### creating a Map for Female Respondents and validating the number of pregnancies (pregnum) for each respondent with number of records in pregnancy files\n"
   ]
  },
  {
   "cell_type": "code",
   "execution_count": 25,
   "id": "a2105e00",
   "metadata": {},
   "outputs": [],
   "source": [
    "# creating a variable pregum_Valid_Ind to calculate the number of valid records\n",
    "pregum_Valid_Ind=0\n",
    "# Iterating through each value in respondents_df.pregnum and extracting index and values\n",
    "for resp_rowNum, pregnum in respondents_df.pregnum.items():\n",
    "        # for each index, extract the respective caseid from respondent dataframe\n",
    "        resp_caseid = respondents_df.caseid[resp_rowNum]\n",
    "        # for the caseid from respondents df, get all indexes that was calculated in pregnancy dictionary map\n",
    "        resp_caseid_indices = pregnancy_dict[resp_caseid]\n",
    "        \n",
    "        # If the number of pregnancies for a given caseid in \n",
    "        # Pregnancy map does not match with the number of pregnancy in respondents df, print the mistmatched results\n",
    "        if len(resp_caseid_indices) != pregnum:\n",
    "            print(resp_caseid, len(resp_caseid_indices), pregnum)\n",
    "        \n",
    "        # Using indicator to extract all valid values and increment by 1 to keep track of the count\n",
    "        else:\n",
    "            pregum_Valid_Ind+=1"
   ]
  },
  {
   "cell_type": "code",
   "execution_count": 26,
   "id": "d292c6aa",
   "metadata": {},
   "outputs": [
    {
     "name": "stdout",
     "output_type": "stream",
     "text": [
      " The number of valid values are 7643 \n"
     ]
    }
   ],
   "source": [
    "print(f\" The number of valid values are {pregum_Valid_Ind} \")\n",
    "# Validating the count of valid values with number of rows in dataframe \n",
    "# to make sure all the values are valid.\n",
    "assert pregum_Valid_Ind == len(respondents_df)"
   ]
  },
  {
   "cell_type": "markdown",
   "id": "80545cdb",
   "metadata": {},
   "source": [
    "# Exercise 2.1"
   ]
  },
  {
   "cell_type": "markdown",
   "id": "dcddd89a",
   "metadata": {},
   "source": [
    "#### Summarize what you have learned about whether first babies arrive late?"
   ]
  },
  {
   "cell_type": "code",
   "execution_count": 27,
   "id": "e67ccbb1",
   "metadata": {},
   "outputs": [],
   "source": [
    "# Creating dataframes for Alive births based on condition that outcome of Pregnancy df equals 1\n",
    "live_births = pregnancy_df[pregnancy_df.outcome == 1]\n",
    "# Creating Dataframes for First babies and other babies based on the BirthOrder\n",
    "first_babies = live_births[live_births.birthord == 1]\n",
    "other_babies = live_births[live_births.birthord != 1]"
   ]
  },
  {
   "cell_type": "code",
   "execution_count": 28,
   "id": "7a9e242a",
   "metadata": {},
   "outputs": [
    {
     "name": "stdout",
     "output_type": "stream",
     "text": [
      "Mean of Live child births is 38.56055968517709\n",
      "Mean of First Child births is 38.60095173351461\n",
      "Mean of Other Child births is 38.52291446673706\n",
      "#############################################\n",
      "Variance of Live child births is 7.302662067826851\n",
      "Variance of First Child births is 7.794713509229059\n",
      "Variance of Other Child births is 6.842683519298573\n",
      "#############################################\n",
      "Standard Deviation of Live child births is 2.702343810070593\n",
      "Standard Deviation of First Child births is 2.7919014146686947\n",
      "Standard Deviation of Other Child births is 2.615852350439255\n",
      "Cohen's d Measure of First birth and Other child birth  Pregnancy length is 0.028879044654449883\n"
     ]
    }
   ],
   "source": [
    "# Calculating the Mean, Variance and Standard deviation of Live, first and other births\n",
    "\n",
    "# Summary statistics of Live births\n",
    "mean_live = live_births.prglngth.mean()\n",
    "var_live = live_births.prglngth.var()\n",
    "std_live = live_births.prglngth.std()\n",
    "\n",
    "# Summary statistics of  First babies\n",
    "mean_first = first_babies.prglngth.mean()\n",
    "var_first = first_babies.prglngth.var()\n",
    "std_first = first_babies.prglngth.std()\n",
    "\n",
    "# Summary statistics of  Other babies\n",
    "mean_others = other_babies.prglngth.mean()\n",
    "var_others = other_babies.prglngth.var()\n",
    "std_others = other_babies.prglngth.std()\n",
    "\n",
    "# Printing results of  Summary statistics\n",
    "print(f'Mean of Live child births is {mean_live}')\n",
    "print(f'Mean of First Child births is {mean_first}')\n",
    "print(f'Mean of Other Child births is {mean_others}')\n",
    "\n",
    "print(\"#############################################\")\n",
    "\n",
    "print(f'Variance of Live child births is {var_live}')\n",
    "print(f'Variance of First Child births is {var_first}')\n",
    "print(f'Variance of Other Child births is {var_others}')\n",
    "\n",
    "print(\"#############################################\")\n",
    "\n",
    "print(f'Standard Deviation of Live child births is {std_live}')\n",
    "print(f'Standard Deviation of First Child births is {std_first}')\n",
    "print(f'Standard Deviation of Other Child births is {std_others}')\n",
    "\n",
    "# Calculating Cohen's d between the groups First babies and Other Babies\n",
    "mean_difference = mean_first-mean_others\n",
    "# Calculating the number of items in the Dataframes of First Babies and Other babies\n",
    "len_first, len_others= len(first_babies) , len(other_babies)\n",
    "# Calculating Pooled Vriance\n",
    "pooled_var=((len_first * var_first) + (len_others * var_others))/ (len_first + len_others)\n",
    "# Calculating the Cohen's d from the variables defined above\n",
    "cohens_d=mean_difference /math.sqrt(pooled_var)\n",
    "print(f\"Cohen's d Measure of First birth and Other child birth  Pregnancy length is {cohens_d}\")\n"
   ]
  },
  {
   "cell_type": "code",
   "execution_count": 29,
   "id": "e27e8787",
   "metadata": {},
   "outputs": [
    {
     "data": {
      "image/png": "[encoded data removed]",
      "text/plain": [
       "<Figure size 640x480 with 1 Axes>"
      ]
     },
     "metadata": {},
     "output_type": "display_data"
    }
   ],
   "source": [
    "# Creating Histograms of the Live birth Babies\n",
    "hist_live = thinkstats2.Hist(np.floor(live_births.prglngth), label='prglngth')\n",
    "thinkplot.Hist(hist_live)"
   ]
  },
  {
   "cell_type": "code",
   "execution_count": 30,
   "id": "7fc47ea1",
   "metadata": {},
   "outputs": [
    {
     "data": {
      "image/png": "[encoded data removed]",
      "text/plain": [
       "<Figure size 640x480 with 1 Axes>"
      ]
     },
     "metadata": {},
     "output_type": "display_data"
    },
    {
     "data": {
      "text/plain": [
       "<Figure size 800x600 with 0 Axes>"
      ]
     },
     "metadata": {},
     "output_type": "display_data"
    }
   ],
   "source": [
    "# Creating Histogram of First babies and the other Babies\n",
    "first_babies_hist=thinkstats2.Hist(first_babies.prglngth, label='first')\n",
    "other_babies_hist=thinkstats2.Hist(other_babies.prglngth,  label='others')\n",
    "thinkplot.PrePlot(2)\n",
    "# Plotting the histogram by setting the alignment and the width\n",
    "thinkplot.Hist(first_babies_hist,align='right',width=0.45)\n",
    "thinkplot.Hist(other_babies_hist,align='left',width=0.45)\n",
    "thinkplot.Show(xlabel='Weeks',ylabel='Frequency',axis=[27, 46, 0, 2700],\n",
    "               title='Histogram comparing First Births and Other Births')"
   ]
  },
  {
   "cell_type": "markdown",
   "id": "e7b1981c",
   "metadata": {},
   "source": [
    "#### ***Question:*** Based on the results in the chapter, suppose you were asked to summarize what you learned about whether first babies arrive late\n",
    "\n",
    "\n",
    "\n",
    "#### ***Solution***: The Results of the Histogram indiate that most of the First babies and Other babies arrive around 38-39 weeks of Pregnancy. There is not much difference looking at the results of the Histogram in terms of Pregnancy length. The mean and standard deviations of these two groups can be used to compare the results which are almost same. The Mean pregnancy length of first babies is 38.6 weeks while the mean for Other babies is 38.523 weeks and the difference is almost not noticeable. So the answer to the question is Yes, the First babies arrive later than the other babies, but the difference is almost so marginally small, it is not noticeable. "
   ]
  },
  {
   "cell_type": "markdown",
   "id": "8ecd031c",
   "metadata": {},
   "source": [
    "####  ***Question:*** Which summary statistics would you use if you wanted to get a story on evening news?\n",
    "\n",
    "#### ***Solution:***  To get a story in the evening news, people don't like to hear the obvious facts and the topic should be either negative or something out of ordinary which mayeasily earn me a easy spot on the evening news(Pardon my opinion about the media). Hence I would pick the Outliers as the Summary Statistics to get the spot on Evening news and this will be my title:\n",
    "\n",
    "##  BREAKING NEWS : 50 Weeks of Pregnancy! Is that medically possible?\n",
    "\n",
    "#### In the details of the news, I will mention that the 50 weeks pregnancy is medically unlikely and may be an outlier and talk about the mean and other summary statistics."
   ]
  },
  {
   "cell_type": "markdown",
   "id": "f288957b",
   "metadata": {},
   "source": [
    "#### ***Question:*** Which ones would you use if you wanted to reassure an anxious patient\n",
    "#### ***Solution:*** Assuming the patient is not a statistics expert, I would pick the simple statistics measure that a regular person can understand. So I will go with mean Pregnancy length of First born and Other babies and explain the anxious patient how similar they are and there is not much to worry ! The difference between in the mean of the 2 groups is about 13 hours which is almoct not noticeable."
   ]
  },
  {
   "cell_type": "markdown",
   "id": "2ea5f774",
   "metadata": {},
   "source": [
    "#### ***Question:*** \"Do First Babies arrive late\"? Write a paragraph that uses the results in the chapter to answer the question clearly, precisely and honestly"
   ]
  },
  {
   "cell_type": "markdown",
   "id": "0411413c",
   "metadata": {},
   "source": [
    "#### ***Solution:*** Based on the results in the Histogram of the Pregnancy lengths of the First babies and the other babies, we can see that the babies are born around 38-39 weeks for most of the women. Also based on the results of the mean between the groups, the difference in numbers is almost marginal that it is hardly even noticeable. The Standard Deviation between the groups also indicate that the numbers are almost similar which means we can expect about 2-3 weeks of deviation for both first babies and other babies. The Cohen's d measure confirm this observation that the measure 0.029 is almost not noticeable. \n",
    "\n",
    "#### So the short answer to the question is, YES THE FIRST BABIES DO ARRIVE LATER THAN OTHER Babies but the DIFFERENCE IS ALMOST MARGINAL that it is NOT NOTICEABLE."
   ]
  },
  {
   "cell_type": "markdown",
   "id": "1225725e",
   "metadata": {},
   "source": [
    "# Exercise 2-4:"
   ]
  },
  {
   "cell_type": "markdown",
   "id": "f69e2944",
   "metadata": {},
   "source": [
    "#### Using the totalwgt_lb, investigate whether the first babies are lighter or heavier than others.  Compute Cohen's d to quantify the difference between the groups. How does it compare to the difference in Pregnancy length?"
   ]
  },
  {
   "cell_type": "code",
   "execution_count": 31,
   "id": "f939d700",
   "metadata": {},
   "outputs": [
    {
     "name": "stdout",
     "output_type": "stream",
     "text": [
      "Mean Weight of First Child births is 7.201094430437772\n",
      "Mean Weight of Other Child births is 7.325855614973262\n",
      "#############################################\n",
      "Variance of Weight of First Child births is 2.0180273009157768\n",
      "Variance of Weight of Other Child births is 1.9437810258964572\n",
      "#############################################\n",
      "Standard Deviation of Weight of First Child births is 1.4205728777207374\n",
      "Standard Deviation of Weight of Other Child births is 1.3941954762143138\n",
      "Cohen's d Measure of First birth and Other child birth Baby Weight is -0.088672927072602\n"
     ]
    }
   ],
   "source": [
    "# Calculating the Summary Statistics for the First Babies\n",
    "mean_wgt_first = first_babies.totalwgt_lb.mean()\n",
    "var_wgt_first = first_babies.totalwgt_lb.var()\n",
    "std_wgt_first = first_babies.totalwgt_lb.std()\n",
    "\n",
    "# Calculating the Summary Statistics for the Other Babies\n",
    "mean_wgt_others = other_babies.totalwgt_lb.mean()\n",
    "var_wgt_others = other_babies.totalwgt_lb.var()\n",
    "std_wgt_others = other_babies.totalwgt_lb.std()\n",
    "\n",
    "# Printing the results of the Summmary Statistics\n",
    "print(f'Mean Weight of First Child births is {mean_wgt_first}')\n",
    "print(f'Mean Weight of Other Child births is {mean_wgt_others}')\n",
    "print(\"#############################################\")\n",
    "\n",
    "print(f'Variance of Weight of First Child births is {var_wgt_first}')\n",
    "print(f'Variance of Weight of Other Child births is {var_wgt_others}')\n",
    "print(\"#############################################\")\n",
    "\n",
    "print(f'Standard Deviation of Weight of First Child births is {std_wgt_first}')\n",
    "print(f'Standard Deviation of Weight of Other Child births is {std_wgt_others}')\n",
    "\n",
    "# Calculating Cohen's d:\n",
    "mean_wgt_difference = mean_wgt_first-mean_wgt_others\n",
    "len_first, len_others= len(first_babies) , len(other_babies)\n",
    "pooled_var_wgt=((len_first * var_wgt_first) + (len_others * var_wgt_others))/ (len_first + len_others)\n",
    "cohens_d_wgt=mean_wgt_difference /math.sqrt(pooled_var_wgt)\n",
    "print(f\"Cohen's d Measure of First birth and Other child birth Baby Weight is {cohens_d_wgt}\")"
   ]
  },
  {
   "cell_type": "code",
   "execution_count": 32,
   "id": "88308b72",
   "metadata": {},
   "outputs": [
    {
     "data": {
      "image/png": "[encoded data removed]",
      "text/plain": [
       "<Figure size 640x480 with 1 Axes>"
      ]
     },
     "metadata": {},
     "output_type": "display_data"
    },
    {
     "data": {
      "text/plain": [
       "<Figure size 800x600 with 0 Axes>"
      ]
     },
     "metadata": {},
     "output_type": "display_data"
    }
   ],
   "source": [
    "# Creating Histogram of First babies and the other Babies total Weights\n",
    "first_babies_wgt_hist=thinkstats2.Hist(first_babies.totalwgt_lb, label='first')\n",
    "other_babies_wgt_hist=thinkstats2.Hist(other_babies.totalwgt_lb,  label='others')\n",
    "# Plotting the histogram by setting the alignment and the width\n",
    "thinkplot.Hist(first_babies_wgt_hist,align='center',width=0.1)\n",
    "thinkplot.Show(xlabel='Weeks',ylabel='Frequency',axis=[4, 12, 0, 150],\n",
    "               title='Histogram of First baby Total weights')"
   ]
  },
  {
   "cell_type": "code",
   "execution_count": 33,
   "id": "fa60ac4a",
   "metadata": {},
   "outputs": [
    {
     "data": {
      "image/png": "[encoded data removed]",
      "text/plain": [
       "<Figure size 640x480 with 1 Axes>"
      ]
     },
     "metadata": {},
     "output_type": "display_data"
    },
    {
     "data": {
      "text/plain": [
       "<Figure size 800x600 with 0 Axes>"
      ]
     },
     "metadata": {},
     "output_type": "display_data"
    }
   ],
   "source": [
    "# Histogram of Other baby weights in pounds\n",
    "thinkplot.Hist(other_babies_wgt_hist,align='center')\n",
    "thinkplot.Show(xlabel='Weeks',ylabel='Frequency',axis=[4, 12, 0, 200],\n",
    "               title='Histogram of Other baby Total weights')\n",
    "\n",
    "# The Histogram results indicate that most babies weigh between 7-8 pounds when born regardless of being first born or Other"
   ]
  },
  {
   "cell_type": "markdown",
   "id": "e236966e",
   "metadata": {},
   "source": [
    "#### ***Solution:*** The mean weights of the first babies and the other babies are almost similar which are 7.2 and 7.35 lbs respectively.  The results of Standard deviation also indicate the same results that there is a difference of about 1-1.5 pounds in weights  for both first born and other babies. The Cohen's d which turns out to be -0.089 which is almost marginal indicates there is no significant difference between the weights of first born and other babies. This measure is ALMOST COMPARABLE to the Cohen's d of pregnancy lengths of  first and other born. The only difference is that the value is negative in this scenario. As the effect size can be either Positive or Negative, the marginal difference in the effect sizes of 2 groups are almost comparable."
   ]
  }
 ],
 "metadata": {
  "kernelspec": {
   "display_name": "Python 3 (ipykernel)",
   "language": "python",
   "name": "python3"
  },
  "language_info": {
   "codemirror_mode": {
    "name": "ipython",
    "version": 3
   },
   "file_extension": ".py",
   "mimetype": "text/x-python",
   "name": "python",
   "nbconvert_exporter": "python",
   "pygments_lexer": "ipython3",
   "version": "3.9.13"
  },
  "toc": {
   "base_numbering": 1,
   "nav_menu": {},
   "number_sections": true,
   "sideBar": true,
   "skip_h1_title": false,
   "title_cell": "Table of Contents",
   "title_sidebar": "Contents",
   "toc_cell": false,
   "toc_position": {},
   "toc_section_display": true,
   "toc_window_display": false
  }
 },
 "nbformat": 4,
 "nbformat_minor": 5
}
